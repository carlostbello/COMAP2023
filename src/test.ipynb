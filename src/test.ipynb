{
 "cells": [
  {
   "cell_type": "code",
   "execution_count": null,
   "metadata": {},
   "outputs": [],
   "source": [
    "import pandas as pd\n",
    "import matplotlib.pyplot as plt\n",
    "from sklearn.model_selection import train_test_split\n",
    "from sklearn.linear_model import LinearRegression\n",
    "from sklearn.metrics import mean_squared_error, mean_absolute_error\n",
    "from sklearn import preprocessing\n",
    "import numpy as np"
   ]
  },
  {
   "cell_type": "code",
   "execution_count": null,
   "metadata": {},
   "outputs": [],
   "source": [
    "df = pd.read_csv('../data/cleaned.csv')\n"
   ]
  },
  {
   "cell_type": "code",
   "execution_count": null,
   "metadata": {},
   "outputs": [],
   "source": [
    "df[\"date\"] = pd.to_datetime(df[\"date\"])\n",
    "df[\"day_of_week\"] = df[\"date\"].dt.dayofweek"
   ]
  },
  {
   "cell_type": "code",
   "execution_count": null,
   "metadata": {},
   "outputs": [],
   "source": [
    "df[\"day_of_week\"] = df[\"date\"].dt.dayofweek\n",
    "print(df)"
   ]
  },
  {
   "cell_type": "code",
   "execution_count": null,
   "metadata": {},
   "outputs": [],
   "source": [
    "fig, ax = plt.subplots()\n",
    "\n",
    "guesses = ['in1', 'in2', 'in3', 'in4', 'in5', 'in6', 'over6']\n",
    "\n",
    "percentages = np.array([df['in1'], df['in2'], df['in3'], df['in4'], df['in5'], df['in6'], df['over6']])\n",
    "\n",
    "ax.bar(guesses, percentages.mean(axis=1))\n",
    "\n",
    "ax.set_xlabel('Number of guesses')\n",
    "ax.set_ylabel('Percentage')\n",
    "\n",
    "\n",
    "plt.show()"
   ]
  },
  {
   "cell_type": "code",
   "execution_count": null,
   "metadata": {},
   "outputs": [],
   "source": [
    "plt.plot(df['date'], df['num_results'], color='red', marker='o')\n",
    "plt.title('number of results per day', fontsize=14)\n",
    "plt.grid(True)\n",
    "plt.show()\n"
   ]
  },
  {
   "cell_type": "code",
   "execution_count": null,
   "metadata": {},
   "outputs": [],
   "source": [
    "grouped = df.groupby('day_of_week')['num_results'].mean()\n",
    "\n",
    "# Plot a bar chart with the grouped data\n",
    "grouped.plot(kind='bar', color='blue')\n",
    "\n",
    "# Add labels and title to the plot\n",
    "plt.xlabel('Day of the Week')\n",
    "plt.ylabel('Average Number')\n",
    "plt.title('Average Number Distributed by Day')\n",
    "plt.show()\n"
   ]
  },
  {
   "cell_type": "code",
   "execution_count": null,
   "metadata": {},
   "outputs": [],
   "source": [
    "from prophet import Prophet\n",
    "\n",
    "df_numpeople_predict = df[[\"date\", \"num_results\"]]\n",
    "df_numpeople_predict.columns = ['ds', 'y']\n",
    "m = Prophet()\n",
    "m.fit(df_numpeople_predict)\n",
    "\n",
    "future = m.make_future_dataframe(periods=365)\n",
    "\n",
    "forecast = m.predict(future)\n",
    "forecast.tail()\n",
    "\n"
   ]
  },
  {
   "cell_type": "code",
   "execution_count": null,
   "metadata": {},
   "outputs": [],
   "source": [
    "plt.plot(forecast['ds'], forecast['yhat'], color='red', marker='o')\n",
    "plt.title('number of results per day', fontsize=14)\n",
    "plt.grid(True)\n",
    "plt.show()\n",
    "\n",
    "forecast[forecast.ds == \"2023-03-01\"]\n"
   ]
  },
  {
   "cell_type": "code",
   "execution_count": null,
   "metadata": {},
   "outputs": [],
   "source": [
    "df_numpeople_predict = df[[\"date\", \"num_hardmode\"]]\n",
    "df_numpeople_predict.columns = ['ds', 'y']\n",
    "m = Prophet()\n",
    "m.fit(df_numpeople_predict)\n",
    "\n",
    "future = m.make_future_dataframe(periods=365)\n",
    "\n",
    "forecast = m.predict(future)\n",
    "forecast.tail()\n",
    "\n",
    "plt.plot(forecast['ds'], forecast['yhat'], color='red', marker='o')\n",
    "plt.title('number of results per day', fontsize=14)\n",
    "plt.grid(True)\n",
    "plt.show()\n",
    "\n",
    "forecast[forecast.ds == \"2023-03-01\"]\n"
   ]
  },
  {
   "cell_type": "code",
   "execution_count": null,
   "metadata": {},
   "outputs": [],
   "source": [
    "plt.plot(df['date'], df['num_hardmode'], color='red', marker='o')\n",
    "plt.title('number of results per day', fontsize=14)\n",
    "plt.grid(True)\n",
    "plt.show()\n"
   ]
  },
  {
   "cell_type": "code",
   "execution_count": null,
   "metadata": {},
   "outputs": [],
   "source": [
    "print(df)"
   ]
  },
  {
   "cell_type": "code",
   "execution_count": null,
   "metadata": {},
   "outputs": [],
   "source": [
    "plt.plot(df['date'], df['in1'], color='red', marker='o')\n",
    "plt.plot(df['date'], df['in2'], color='orange', marker='o')\n",
    "# plt.plot(df['date'], df['in3'], color='yellow', marker='o')\n",
    "# plt.plot(df['date'], df['in4'], color='green', marker='o')\n",
    "# plt.plot(df['date'], df['in5'], color='blue', marker='o')\n",
    "# plt.plot(df['date'], df['in6'], color='purple', marker='o')\n",
    "# plt.plot(df['date'], df['over6'], color='black', marker='o')\n",
    "plt.title('number of results per day', fontsize=14)\n",
    "plt.grid(True)\n",
    "plt.show()\n"
   ]
  },
  {
   "cell_type": "code",
   "execution_count": null,
   "metadata": {},
   "outputs": [],
   "source": [
    "df[\"percent_hard\"] = df.apply(\n",
    "    lambda row: row[\"num_hardmode\"]/row[\"num_results\"], axis=1)\n",
    "\n",
    "plt.plot(df['date'], df['percent_hard'], color='black', marker='o')\n",
    "plt.title('percent hard mode per day', fontsize=14)\n",
    "plt.grid(True)\n",
    "plt.show()\n",
    "\n",
    "\n",
    "df[df[\"percent_hard\"] > 0.5]\n"
   ]
  },
  {
   "cell_type": "code",
   "execution_count": null,
   "metadata": {},
   "outputs": [],
   "source": [
    "from sklearn.cluster import KMeans\n",
    "import matplotlib.dates as dates\n",
    "df_kmeans = df[[\"word_score\", \"avg_num_guesses\", \"percent_hard\"]]\n",
    "\n",
    "kmeans = KMeans(n_clusters=3).fit(df_kmeans)\n",
    "\n",
    "# Predict the cluster labels for each data point\n",
    "labels = kmeans.predict(df_kmeans)\n",
    "\n",
    "# Add the cluster labels to the data\n",
    "df_kmeans['cluster'] = labels\n",
    "\n",
    "# Print the summary statistics for each cluster\n",
    "for i in range(3):\n",
    "    cluster_data = df_kmeans[df_kmeans['cluster'] == i]\n",
    "    print('Cluster', i)\n",
    "    print('Mean number of word score results:',\n",
    "          cluster_data['word_score'].mean())\n",
    "    print('Mean percentage of players on hard mode:',\n",
    "          cluster_data['percent_hard'].mean())\n",
    "    print('Mean average number of guesses:',\n",
    "          cluster_data['avg_num_guesses'].mean())\n",
    "    print('\\n')\n"
   ]
  },
  {
   "cell_type": "code",
   "execution_count": null,
   "metadata": {},
   "outputs": [],
   "source": [
    "from scipy import stats\n",
    "import numpy as np\n",
    "\n",
    "# assuming your data is stored in a numpy array called \"data\"\n",
    "# and the columns are ordered 1, 2, 3, ..., 7+\n",
    "\n",
    "# calculate the Shapiro-Wilk test statistic and p-value\n",
    "x = df[['in1','in2','in3','in4','in5','in6','over6']]\n",
    "\n",
    "x = x.values.flatten()\n",
    "result = stats.anderson(x, dist='gumbel')\n",
    "print('Statistic: %.3f' % result.statistic)\n",
    "p = 0\n",
    "for i in range(len(result.critical_values)):\n",
    "\tsl, cv = result.significance_level[i], result.critical_values[i]\n",
    "\tif result.statistic < result.critical_values[i]:\n",
    "\t\tprint('%.3f: %.3f, data looks normal (fail to reject H0)' % (sl, cv))\n",
    "\telse:\n",
    "\t\tprint('%.3f: %.3f, data does not look normal (reject H0)' % (sl, cv))\n"
   ]
  }
 ],
 "metadata": {
  "kernelspec": {
   "display_name": "Python 3",
   "language": "python",
   "name": "python3"
  },
  "language_info": {
   "codemirror_mode": {
    "name": "ipython",
    "version": 3
   },
   "file_extension": ".py",
   "mimetype": "text/x-python",
   "name": "python",
   "nbconvert_exporter": "python",
   "pygments_lexer": "ipython3",
   "version": "3.11.0"
  },
  "orig_nbformat": 4,
  "vscode": {
   "interpreter": {
    "hash": "72b2382ece9768098284d92bbc69d35954e75b60d1e25897d1389c232f4796f0"
   }
  }
 },
 "nbformat": 4,
 "nbformat_minor": 2
}
